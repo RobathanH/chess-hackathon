{
 "cells": [
  {
   "cell_type": "code",
   "execution_count": 1,
   "metadata": {},
   "outputs": [],
   "source": [
    "%load_ext autoreload\n",
    "%autoreload 2"
   ]
  },
  {
   "cell_type": "code",
   "execution_count": 23,
   "metadata": {},
   "outputs": [
    {
     "data": {
      "application/vnd.jupyter.widget-view+json": {
       "model_id": "446433fcbcd94152832a775574c7fd1e",
       "version_major": 2,
       "version_minor": 0
      },
      "text/plain": [
       "  0%|          | 0/16 [00:00<?, ?it/s]"
      ]
     },
     "metadata": {},
     "output_type": "display_data"
    },
    {
     "data": {
      "application/vnd.jupyter.widget-view+json": {
       "model_id": "01196707478b428e88a0b2c6eb7ad932",
       "version_major": 2,
       "version_minor": 0
      },
      "text/plain": [
       "  0%|          | 0/1000000 [00:00<?, ?it/s]"
      ]
     },
     "metadata": {},
     "output_type": "display_data"
    },
    {
     "data": {
      "application/vnd.jupyter.widget-view+json": {
       "model_id": "634ca4072b634285ac1a34362a349f8e",
       "version_major": 2,
       "version_minor": 0
      },
      "text/plain": [
       "  0%|          | 0/1000000 [00:00<?, ?it/s]"
      ]
     },
     "metadata": {},
     "output_type": "display_data"
    },
    {
     "data": {
      "application/vnd.jupyter.widget-view+json": {
       "model_id": "05e5c89b75364907bc5cb3c60f824a92",
       "version_major": 2,
       "version_minor": 0
      },
      "text/plain": [
       "  0%|          | 0/1000000 [00:00<?, ?it/s]"
      ]
     },
     "metadata": {},
     "output_type": "display_data"
    },
    {
     "data": {
      "application/vnd.jupyter.widget-view+json": {
       "model_id": "e4f473a7aac64c4b8a4a6ed149943ec5",
       "version_major": 2,
       "version_minor": 0
      },
      "text/plain": [
       "  0%|          | 0/1000000 [00:00<?, ?it/s]"
      ]
     },
     "metadata": {},
     "output_type": "display_data"
    },
    {
     "data": {
      "application/vnd.jupyter.widget-view+json": {
       "model_id": "568b061b873f4fa89305012d16a719c2",
       "version_major": 2,
       "version_minor": 0
      },
      "text/plain": [
       "  0%|          | 0/1000000 [00:00<?, ?it/s]"
      ]
     },
     "metadata": {},
     "output_type": "display_data"
    },
    {
     "data": {
      "application/vnd.jupyter.widget-view+json": {
       "model_id": "4c8e56b110fb464b9132ef6cd9028701",
       "version_major": 2,
       "version_minor": 0
      },
      "text/plain": [
       "  0%|          | 0/1000000 [00:00<?, ?it/s]"
      ]
     },
     "metadata": {},
     "output_type": "display_data"
    },
    {
     "data": {
      "application/vnd.jupyter.widget-view+json": {
       "model_id": "e28bf8c785194c2394ded4a2489c369d",
       "version_major": 2,
       "version_minor": 0
      },
      "text/plain": [
       "  0%|          | 0/1000000 [00:00<?, ?it/s]"
      ]
     },
     "metadata": {},
     "output_type": "display_data"
    },
    {
     "data": {
      "application/vnd.jupyter.widget-view+json": {
       "model_id": "2547bc4d88f54073b99f2d870e7748f7",
       "version_major": 2,
       "version_minor": 0
      },
      "text/plain": [
       "  0%|          | 0/1000000 [00:00<?, ?it/s]"
      ]
     },
     "metadata": {},
     "output_type": "display_data"
    },
    {
     "data": {
      "application/vnd.jupyter.widget-view+json": {
       "model_id": "0e7a0b735095478ea4cbe5c065cb4ffa",
       "version_major": 2,
       "version_minor": 0
      },
      "text/plain": [
       "  0%|          | 0/1000000 [00:00<?, ?it/s]"
      ]
     },
     "metadata": {},
     "output_type": "display_data"
    },
    {
     "data": {
      "application/vnd.jupyter.widget-view+json": {
       "model_id": "f1cdfd933ae543bab00672e441e6a9ae",
       "version_major": 2,
       "version_minor": 0
      },
      "text/plain": [
       "  0%|          | 0/1000000 [00:00<?, ?it/s]"
      ]
     },
     "metadata": {},
     "output_type": "display_data"
    },
    {
     "data": {
      "application/vnd.jupyter.widget-view+json": {
       "model_id": "da461dd6e8b944068fbb993205b507b1",
       "version_major": 2,
       "version_minor": 0
      },
      "text/plain": [
       "  0%|          | 0/1000000 [00:00<?, ?it/s]"
      ]
     },
     "metadata": {},
     "output_type": "display_data"
    },
    {
     "data": {
      "application/vnd.jupyter.widget-view+json": {
       "model_id": "327ab38c4f54499eb26e6927ec9a1a93",
       "version_major": 2,
       "version_minor": 0
      },
      "text/plain": [
       "  0%|          | 0/1000000 [00:00<?, ?it/s]"
      ]
     },
     "metadata": {},
     "output_type": "display_data"
    },
    {
     "data": {
      "application/vnd.jupyter.widget-view+json": {
       "model_id": "d497fe74aea349779740f66ad57baf8f",
       "version_major": 2,
       "version_minor": 0
      },
      "text/plain": [
       "  0%|          | 0/1000000 [00:00<?, ?it/s]"
      ]
     },
     "metadata": {},
     "output_type": "display_data"
    },
    {
     "data": {
      "application/vnd.jupyter.widget-view+json": {
       "model_id": "024f23bebb204886beb738e71cbdf90a",
       "version_major": 2,
       "version_minor": 0
      },
      "text/plain": [
       "  0%|          | 0/1000000 [00:00<?, ?it/s]"
      ]
     },
     "metadata": {},
     "output_type": "display_data"
    },
    {
     "data": {
      "application/vnd.jupyter.widget-view+json": {
       "model_id": "3f13ac92512b4923aa7b2f70c224e4ef",
       "version_major": 2,
       "version_minor": 0
      },
      "text/plain": [
       "  0%|          | 0/1000000 [00:00<?, ?it/s]"
      ]
     },
     "metadata": {},
     "output_type": "display_data"
    },
    {
     "data": {
      "application/vnd.jupyter.widget-view+json": {
       "model_id": "0605525851ed4b9b84efd0b8dc4b28ec",
       "version_major": 2,
       "version_minor": 0
      },
      "text/plain": [
       "  0%|          | 0/550875 [00:00<?, ?it/s]"
      ]
     },
     "metadata": {},
     "output_type": "display_data"
    }
   ],
   "source": [
    "import numpy\n",
    "from collections import defaultdict\n",
    "from tqdm.notebook import tqdm, trange\n",
    "import pickle\n",
    "import h5py\n",
    "\n",
    "board_evals = defaultdict(lambda: [])\n",
    "board_inds = defaultdict(lambda: [])\n",
    "tuple_index = 0\n",
    "for i in trange(16):\n",
    "    with h5py.File(f\"/data/chess{i}.h5\", \"r\") as f:\n",
    "        boards, evals = f[\"boards\"], f[\"evaluations\"]\n",
    "        for board, eval in tqdm(zip(boards, evals), total=len(boards)):\n",
    "            board_str = \" \".join([str(x) for x in board.flatten().tolist()])\n",
    "            board_evals[board_str].append(eval.item())\n",
    "            board_inds[board_str].append(tuple_index)\n",
    "            tuple_index += 1"
   ]
  },
  {
   "cell_type": "code",
   "execution_count": 24,
   "metadata": {},
   "outputs": [],
   "source": [
    "valid_indices = [inds[0] for inds in board_inds.values()]\n",
    "with open(\"valid_indices.pkl\", \"wb\") as fp:\n",
    "    pickle.dump(valid_indices, fp)"
   ]
  },
  {
   "cell_type": "code",
   "execution_count": 26,
   "metadata": {},
   "outputs": [],
   "source": [
    "valid_index_evals = [evals[0] for evals in board_evals.values()]\n",
    "with open(\"valid_index_evals.pkl\", \"wb\") as fp:\n",
    "    pickle.dump(valid_index_evals, fp)"
   ]
  },
  {
   "cell_type": "code",
   "execution_count": 25,
   "metadata": {},
   "outputs": [
    {
     "data": {
      "text/plain": [
       "13238717"
      ]
     },
     "execution_count": 25,
     "metadata": {},
     "output_type": "execute_result"
    }
   ],
   "source": [
    "len(board_inds)"
   ]
  },
  {
   "cell_type": "code",
   "execution_count": 45,
   "metadata": {},
   "outputs": [],
   "source": [
    "import pickle\n",
    "from tqdm.notebook import tqdm, trange\n",
    "import torch\n",
    "from utils.chess_primitives import *"
   ]
  },
  {
   "cell_type": "code",
   "execution_count": 43,
   "metadata": {},
   "outputs": [],
   "source": [
    "def convert_labeled_game(input_game):\n",
    "\n",
    "    # Output of function\n",
    "    states = []\n",
    "    evals = []\n",
    "\n",
    "    board = init_board()\n",
    "    turn = \"white\"\n",
    "\n",
    "    for move, stockfish_eval in zip(input_game[\"moves_pgn\"], input_game[\"eval\"]):\n",
    "        # Retrieve the move\n",
    "        move = move.replace('x','').replace('+','').replace('#','') # Drop capture/check/checkmate notation - unnecessary\n",
    "        # Revert any passant pawns to regular pawns if they survived the enemy's turn.\n",
    "        board[board==2] = 1\n",
    "        # Calculate legal moves from this position\n",
    "        candidates = candidate_moves(board)\n",
    "        # Generate candidates and identify the board of the move that was made\n",
    "        played_board = get_played(board, move, turn, candidates, False)\n",
    "        # Maybe terminate\n",
    "        if played_board is None:\n",
    "            return states, evals\n",
    "\n",
    "        # Add updated board to list - if not checkmate\n",
    "        if stockfish_eval[\"type\"] == \"cp\":\n",
    "            states.append(played_board.copy())\n",
    "            evals.append(stockfish_eval[\"value\"] * (1 if turn == \"white\" else -1))\n",
    "\n",
    "        # Record the new board state\n",
    "        board = played_board\n",
    "        # Conjugate board to other side's view\n",
    "        board = conjugate_board(board)\n",
    "        # Turn play over to the other side.\n",
    "        if turn == 'white':\n",
    "            turn = 'black'\n",
    "        else:\n",
    "            turn = 'white'\n",
    "\n",
    "    return states, evals"
   ]
  },
  {
   "cell_type": "code",
   "execution_count": 46,
   "metadata": {},
   "outputs": [
    {
     "data": {
      "application/vnd.jupyter.widget-view+json": {
       "model_id": "9409119fbc3d4060945b8d9c3a17ceb1",
       "version_major": 2,
       "version_minor": 0
      },
      "text/plain": [
       "  0%|          | 0/15 [00:00<?, ?it/s]"
      ]
     },
     "metadata": {},
     "output_type": "display_data"
    },
    {
     "data": {
      "application/vnd.jupyter.widget-view+json": {
       "model_id": "3db321dd52b44fd9a6faa78823d83aa8",
       "version_major": 2,
       "version_minor": 0
      },
      "text/plain": [
       "  0%|          | 0/256 [00:00<?, ?it/s]"
      ]
     },
     "metadata": {},
     "output_type": "display_data"
    },
    {
     "ename": "KeyboardInterrupt",
     "evalue": "",
     "output_type": "error",
     "traceback": [
      "\u001b[0;31m---------------------------------------------------------------------------\u001b[0m",
      "\u001b[0;31mKeyboardInterrupt\u001b[0m                         Traceback (most recent call last)",
      "Cell \u001b[0;32mIn[46], line 8\u001b[0m\n\u001b[1;32m      5\u001b[0m         data \u001b[38;5;241m=\u001b[39m pickle\u001b[38;5;241m.\u001b[39mload(fp)\n\u001b[1;32m      7\u001b[0m         \u001b[38;5;28;01mfor\u001b[39;00m game \u001b[38;5;129;01min\u001b[39;00m tqdm(data):\n\u001b[0;32m----> 8\u001b[0m             game_states, game_vals \u001b[38;5;241m=\u001b[39m \u001b[43mconvert_labeled_game\u001b[49m\u001b[43m(\u001b[49m\u001b[43mgame\u001b[49m\u001b[43m)\u001b[49m\n\u001b[1;32m      9\u001b[0m             new_dataset \u001b[38;5;241m+\u001b[39m\u001b[38;5;241m=\u001b[39m \u001b[38;5;28mlist\u001b[39m(\u001b[38;5;28mzip\u001b[39m(game_states, game_vals))\n\u001b[1;32m     11\u001b[0m torch\u001b[38;5;241m.\u001b[39msave(new_dataset, \u001b[38;5;124m\"\u001b[39m\u001b[38;5;124mgeneral_dataset.pt\u001b[39m\u001b[38;5;124m\"\u001b[39m)\n",
      "Cell \u001b[0;32mIn[43], line 16\u001b[0m, in \u001b[0;36mconvert_labeled_game\u001b[0;34m(input_game)\u001b[0m\n\u001b[1;32m     14\u001b[0m board[board\u001b[38;5;241m==\u001b[39m\u001b[38;5;241m2\u001b[39m] \u001b[38;5;241m=\u001b[39m \u001b[38;5;241m1\u001b[39m\n\u001b[1;32m     15\u001b[0m \u001b[38;5;66;03m# Calculate legal moves from this position\u001b[39;00m\n\u001b[0;32m---> 16\u001b[0m candidates \u001b[38;5;241m=\u001b[39m \u001b[43mcandidate_moves\u001b[49m\u001b[43m(\u001b[49m\u001b[43mboard\u001b[49m\u001b[43m)\u001b[49m\n\u001b[1;32m     17\u001b[0m \u001b[38;5;66;03m# Generate candidates and identify the board of the move that was made\u001b[39;00m\n\u001b[1;32m     18\u001b[0m played_board \u001b[38;5;241m=\u001b[39m get_played(board, move, turn, candidates, \u001b[38;5;28;01mFalse\u001b[39;00m)\n",
      "File \u001b[0;32m~/rob/chess-hackathon/utils/chess_primitives.py:624\u001b[0m, in \u001b[0;36mcandidate_moves\u001b[0;34m(board)\u001b[0m\n\u001b[1;32m    622\u001b[0m \u001b[38;5;250m\u001b[39m\u001b[38;5;124;03m'''Return candidate boards representing each potential move from a given board configuration.'''\u001b[39;00m\n\u001b[1;32m    623\u001b[0m candidates \u001b[38;5;241m=\u001b[39m pawn_moves(board) \u001b[38;5;241m+\u001b[39m rook_moves(board) \u001b[38;5;241m+\u001b[39m knight_moves(board) \u001b[38;5;241m+\u001b[39m bishop_moves(board) \u001b[38;5;241m+\u001b[39m queen_moves(board) \u001b[38;5;241m+\u001b[39m king_moves(board) \u001b[38;5;241m+\u001b[39m castle_moves(board)\n\u001b[0;32m--> 624\u001b[0m \u001b[38;5;28;01mreturn\u001b[39;00m [c \u001b[38;5;28;01mfor\u001b[39;00m c \u001b[38;5;129;01min\u001b[39;00m candidates \u001b[38;5;28;01mif\u001b[39;00m \u001b[38;5;129;01mnot\u001b[39;00m in_check(c)]\n",
      "File \u001b[0;32m~/rob/chess-hackathon/utils/chess_primitives.py:624\u001b[0m, in \u001b[0;36m<listcomp>\u001b[0;34m(.0)\u001b[0m\n\u001b[1;32m    622\u001b[0m \u001b[38;5;250m\u001b[39m\u001b[38;5;124;03m'''Return candidate boards representing each potential move from a given board configuration.'''\u001b[39;00m\n\u001b[1;32m    623\u001b[0m candidates \u001b[38;5;241m=\u001b[39m pawn_moves(board) \u001b[38;5;241m+\u001b[39m rook_moves(board) \u001b[38;5;241m+\u001b[39m knight_moves(board) \u001b[38;5;241m+\u001b[39m bishop_moves(board) \u001b[38;5;241m+\u001b[39m queen_moves(board) \u001b[38;5;241m+\u001b[39m king_moves(board) \u001b[38;5;241m+\u001b[39m castle_moves(board)\n\u001b[0;32m--> 624\u001b[0m \u001b[38;5;28;01mreturn\u001b[39;00m [c \u001b[38;5;28;01mfor\u001b[39;00m c \u001b[38;5;129;01min\u001b[39;00m candidates \u001b[38;5;28;01mif\u001b[39;00m \u001b[38;5;129;01mnot\u001b[39;00m \u001b[43min_check\u001b[49m\u001b[43m(\u001b[49m\u001b[43mc\u001b[49m\u001b[43m)\u001b[49m]\n",
      "File \u001b[0;32m~/rob/chess-hackathon/utils/chess_primitives.py:634\u001b[0m, in \u001b[0;36min_check\u001b[0;34m(board)\u001b[0m\n\u001b[1;32m    632\u001b[0m \u001b[38;5;66;03m# Enemy moves considered include all but castle, which can otherwise trigger an infinite recursion. Enemy castle cannot attack king anyway.\u001b[39;00m\n\u001b[1;32m    633\u001b[0m enemy_moves \u001b[38;5;241m=\u001b[39m pawn_moves(enemy_board) \u001b[38;5;241m+\u001b[39m rook_moves(enemy_board) \u001b[38;5;241m+\u001b[39m knight_moves(enemy_board) \u001b[38;5;241m+\u001b[39m bishop_moves(enemy_board) \u001b[38;5;241m+\u001b[39m queen_moves(enemy_board) \u001b[38;5;241m+\u001b[39m king_moves(enemy_board)\n\u001b[0;32m--> 634\u001b[0m enemy_moves \u001b[38;5;241m=\u001b[39m [conjugate_board(em) \u001b[38;5;28;01mfor\u001b[39;00m em \u001b[38;5;129;01min\u001b[39;00m enemy_moves] \u001b[38;5;66;03m# Conjugate back to our perspective\u001b[39;00m\n\u001b[1;32m    635\u001b[0m \u001b[38;5;66;03m# Not the case that where my king is currently located, the piece in that location is no longer my king, for possible enemy moves.\u001b[39;00m\n\u001b[1;32m    636\u001b[0m \u001b[38;5;28;01mreturn\u001b[39;00m \u001b[38;5;28many\u001b[39m([em[\u001b[38;5;28mtuple\u001b[39m(king_loc)] \u001b[38;5;129;01mnot\u001b[39;00m \u001b[38;5;129;01min\u001b[39;00m piece_map[\u001b[38;5;124m'\u001b[39m\u001b[38;5;124mK\u001b[39m\u001b[38;5;124m'\u001b[39m] \u001b[38;5;28;01mfor\u001b[39;00m em \u001b[38;5;129;01min\u001b[39;00m enemy_moves])\n",
      "File \u001b[0;32m~/rob/chess-hackathon/utils/chess_primitives.py:634\u001b[0m, in \u001b[0;36m<listcomp>\u001b[0;34m(.0)\u001b[0m\n\u001b[1;32m    632\u001b[0m \u001b[38;5;66;03m# Enemy moves considered include all but castle, which can otherwise trigger an infinite recursion. Enemy castle cannot attack king anyway.\u001b[39;00m\n\u001b[1;32m    633\u001b[0m enemy_moves \u001b[38;5;241m=\u001b[39m pawn_moves(enemy_board) \u001b[38;5;241m+\u001b[39m rook_moves(enemy_board) \u001b[38;5;241m+\u001b[39m knight_moves(enemy_board) \u001b[38;5;241m+\u001b[39m bishop_moves(enemy_board) \u001b[38;5;241m+\u001b[39m queen_moves(enemy_board) \u001b[38;5;241m+\u001b[39m king_moves(enemy_board)\n\u001b[0;32m--> 634\u001b[0m enemy_moves \u001b[38;5;241m=\u001b[39m [\u001b[43mconjugate_board\u001b[49m\u001b[43m(\u001b[49m\u001b[43mem\u001b[49m\u001b[43m)\u001b[49m \u001b[38;5;28;01mfor\u001b[39;00m em \u001b[38;5;129;01min\u001b[39;00m enemy_moves] \u001b[38;5;66;03m# Conjugate back to our perspective\u001b[39;00m\n\u001b[1;32m    635\u001b[0m \u001b[38;5;66;03m# Not the case that where my king is currently located, the piece in that location is no longer my king, for possible enemy moves.\u001b[39;00m\n\u001b[1;32m    636\u001b[0m \u001b[38;5;28;01mreturn\u001b[39;00m \u001b[38;5;28many\u001b[39m([em[\u001b[38;5;28mtuple\u001b[39m(king_loc)] \u001b[38;5;129;01mnot\u001b[39;00m \u001b[38;5;129;01min\u001b[39;00m piece_map[\u001b[38;5;124m'\u001b[39m\u001b[38;5;124mK\u001b[39m\u001b[38;5;124m'\u001b[39m] \u001b[38;5;28;01mfor\u001b[39;00m em \u001b[38;5;129;01min\u001b[39;00m enemy_moves])\n",
      "File \u001b[0;32m~/rob/chess-hackathon/utils/chess_primitives.py:53\u001b[0m, in \u001b[0;36mconjugate_board\u001b[0;34m(board)\u001b[0m\n\u001b[1;32m     51\u001b[0m conj_board \u001b[38;5;241m=\u001b[39m np\u001b[38;5;241m.\u001b[39marray(board, copy\u001b[38;5;241m=\u001b[39m\u001b[38;5;28;01mTrue\u001b[39;00m)\n\u001b[1;32m     52\u001b[0m conj_board \u001b[38;5;241m=\u001b[39m np\u001b[38;5;241m.\u001b[39mflip(conj_board)\n\u001b[0;32m---> 53\u001b[0m \u001b[38;5;28;01mreturn\u001b[39;00m np\u001b[38;5;241m.\u001b[39mwhere(conj_board \u001b[38;5;241m>\u001b[39m\u001b[38;5;241m=\u001b[39m \u001b[38;5;241m11\u001b[39m, conj_board \u001b[38;5;241m-\u001b[39m \u001b[38;5;241m10\u001b[39m, \u001b[43mnp\u001b[49m\u001b[38;5;241;43m.\u001b[39;49m\u001b[43mwhere\u001b[49m\u001b[43m(\u001b[49m\u001b[43mconj_board\u001b[49m\u001b[43m \u001b[49m\u001b[38;5;241;43m>\u001b[39;49m\u001b[38;5;241;43m=\u001b[39;49m\u001b[43m \u001b[49m\u001b[38;5;241;43m1\u001b[39;49m\u001b[43m,\u001b[49m\u001b[43m \u001b[49m\u001b[43mconj_board\u001b[49m\u001b[43m \u001b[49m\u001b[38;5;241;43m+\u001b[39;49m\u001b[43m \u001b[49m\u001b[38;5;241;43m10\u001b[39;49m\u001b[43m,\u001b[49m\u001b[43m \u001b[49m\u001b[38;5;241;43m0\u001b[39;49m\u001b[43m)\u001b[49m)\n",
      "File \u001b[0;32m~/.chess/lib/python3.10/site-packages/numpy/core/multiarray.py:346\u001b[0m, in \u001b[0;36mwhere\u001b[0;34m(condition, x, y)\u001b[0m\n\u001b[1;32m    256\u001b[0m \u001b[38;5;250m    \u001b[39m\u001b[38;5;124;03m\"\"\"\u001b[39;00m\n\u001b[1;32m    257\u001b[0m \u001b[38;5;124;03m    inner(a, b, /)\u001b[39;00m\n\u001b[1;32m    258\u001b[0m \n\u001b[0;32m   (...)\u001b[0m\n\u001b[1;32m    341\u001b[0m \n\u001b[1;32m    342\u001b[0m \u001b[38;5;124;03m    \"\"\"\u001b[39;00m\n\u001b[1;32m    343\u001b[0m     \u001b[38;5;28;01mreturn\u001b[39;00m (a, b)\n\u001b[0;32m--> 346\u001b[0m \u001b[38;5;129m@array_function_from_c_func_and_dispatcher\u001b[39m(_multiarray_umath\u001b[38;5;241m.\u001b[39mwhere)\n\u001b[1;32m    347\u001b[0m \u001b[38;5;28;01mdef\u001b[39;00m \u001b[38;5;21mwhere\u001b[39m(condition, x\u001b[38;5;241m=\u001b[39m\u001b[38;5;28;01mNone\u001b[39;00m, y\u001b[38;5;241m=\u001b[39m\u001b[38;5;28;01mNone\u001b[39;00m):\n\u001b[1;32m    348\u001b[0m \u001b[38;5;250m    \u001b[39m\u001b[38;5;124;03m\"\"\"\u001b[39;00m\n\u001b[1;32m    349\u001b[0m \u001b[38;5;124;03m    where(condition, [x, y], /)\u001b[39;00m\n\u001b[1;32m    350\u001b[0m \n\u001b[0;32m   (...)\u001b[0m\n\u001b[1;32m    416\u001b[0m \u001b[38;5;124;03m           [ 0,  3, -1]])\u001b[39;00m\n\u001b[1;32m    417\u001b[0m \u001b[38;5;124;03m    \"\"\"\u001b[39;00m\n\u001b[1;32m    418\u001b[0m     \u001b[38;5;28;01mreturn\u001b[39;00m (condition, x, y)\n",
      "\u001b[0;31mKeyboardInterrupt\u001b[0m: "
     ]
    }
   ],
   "source": [
    "new_dataset = []\n",
    "\n",
    "for i in trange(15):\n",
    "    with open(f\"labeled_games/{i:08}.pkl\", \"rb\") as fp:\n",
    "        data = pickle.load(fp)\n",
    "\n",
    "    for game in tqdm(data):\n",
    "        game_states, game_vals = convert_labeled_game(game)\n",
    "        new_dataset += list(zip(game_states, game_vals))\n",
    "\n",
    "    torch.save(new_dataset, \"general_dataset.pt\")"
   ]
  },
  {
   "cell_type": "code",
   "execution_count": null,
   "metadata": {},
   "outputs": [],
   "source": []
  }
 ],
 "metadata": {
  "kernelspec": {
   "display_name": ".chess",
   "language": "python",
   "name": "python3"
  },
  "language_info": {
   "codemirror_mode": {
    "name": "ipython",
    "version": 3
   },
   "file_extension": ".py",
   "mimetype": "text/x-python",
   "name": "python",
   "nbconvert_exporter": "python",
   "pygments_lexer": "ipython3",
   "version": "3.10.12"
  }
 },
 "nbformat": 4,
 "nbformat_minor": 2
}
