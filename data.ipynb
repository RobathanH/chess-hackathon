{
 "cells": [
  {
   "cell_type": "code",
   "execution_count": 1,
   "metadata": {},
   "outputs": [],
   "source": [
    "import numpy as np\n",
    "import h5py"
   ]
  },
  {
   "cell_type": "markdown",
   "metadata": {},
   "source": [
    "### Check Carlsen Dataset"
   ]
  },
  {
   "cell_type": "code",
   "execution_count": 3,
   "metadata": {},
   "outputs": [],
   "source": [
    "filename = \"/data/chess0.h5\"\n",
    "h5 = h5py.File(filename,'r')"
   ]
  },
  {
   "cell_type": "code",
   "execution_count": 5,
   "metadata": {},
   "outputs": [
    {
     "data": {
      "text/plain": [
       "<KeysViewHDF5 ['boards', 'evaluations', 'moves', 'turns']>"
      ]
     },
     "execution_count": 5,
     "metadata": {},
     "output_type": "execute_result"
    }
   ],
   "source": [
    "h5.keys()"
   ]
  },
  {
   "cell_type": "code",
   "execution_count": 24,
   "metadata": {},
   "outputs": [
    {
     "data": {
      "text/plain": [
       "array([[13, 15,  0, 18, 19, 17, 15, 13],\n",
       "       [11, 11, 11,  0, 11, 11, 11, 11],\n",
       "       [ 0,  0,  0,  0,  0,  0,  0,  0],\n",
       "       [ 0,  0,  0, 11,  0, 16,  0,  0],\n",
       "       [ 0,  0,  0,  0,  0,  0,  0,  0],\n",
       "       [ 0,  1,  0,  0,  0,  0,  1,  0],\n",
       "       [ 1,  7,  1,  1,  1,  1,  0,  1],\n",
       "       [ 3,  5,  0,  8,  9,  6,  5,  3]])"
      ]
     },
     "execution_count": 24,
     "metadata": {},
     "output_type": "execute_result"
    }
   ],
   "source": [
    "h5[\"boards\"][100]"
   ]
  },
  {
   "cell_type": "code",
   "execution_count": 31,
   "metadata": {},
   "outputs": [
    {
     "data": {
      "text/plain": [
       "array([ -17,  -16,  -26,  -34,   18,   24,  -16,   26,   14,   24,  -86,\n",
       "        -27,   21, -131,   -6,  -49,   -3,  -74,  -61,   27,  -30,  -26,\n",
       "        -13,  -97,  -81,  -55,  -17,   17,  -18,   -1,   -8,  -14,  -33,\n",
       "        -23,  -21,  -32,  -11,  -38,  -87,  -18, -115,  -58,  -92,  -86,\n",
       "        -61,  -46,  -20,  -30, -118, -131,  -60,  -61, -249,  -70, -125,\n",
       "        -85,  -99, -140,   -1,    0,  -26,  -71,  -11,  -26, -387, -427,\n",
       "        -49,  -53,  -15,  -92,  -11,  -26,  -27,  -65,  -24,  -37,  -13,\n",
       "        -40,  -70,  -33,  -18,  -30,  -33,    6,    0, -507,  -70,  -18,\n",
       "       -126,  -59,   -6,  -15,  -90,  -38,  -17,  -19,  -12, -153, -117,\n",
       "        -41])"
      ]
     },
     "execution_count": 31,
     "metadata": {},
     "output_type": "execute_result"
    }
   ],
   "source": [
    "h5[\"evaluations\"][:100]"
   ]
  },
  {
   "cell_type": "code",
   "execution_count": 30,
   "metadata": {},
   "outputs": [
    {
     "data": {
      "text/plain": [
       "array([0, 0, 0, 0, 0, 0, 0, 0, 0, 0, 0, 0, 0, 0, 0, 0, 0, 0, 0, 0, 1, 1,\n",
       "       1, 1, 1, 1, 1, 1, 1, 1, 1, 1, 1, 1, 1, 1, 1, 1, 1, 1, 2, 2, 2, 2,\n",
       "       2, 2, 2, 2, 2, 2, 2, 2, 2, 2, 2, 2, 2, 2, 2, 2, 2, 3, 3, 3, 3, 3,\n",
       "       3, 3, 3, 3, 3, 3, 3, 3, 3, 3, 3, 3, 3, 3, 3, 3, 3, 3, 3, 3, 3, 3,\n",
       "       3, 4, 4, 4, 4, 4, 4, 4, 4, 4, 4, 4])"
      ]
     },
     "execution_count": 30,
     "metadata": {},
     "output_type": "execute_result"
    }
   ],
   "source": [
    "h5[\"moves\"][:100]"
   ]
  },
  {
   "cell_type": "code",
   "execution_count": 29,
   "metadata": {},
   "outputs": [
    {
     "data": {
      "text/plain": [
       "array([0, 0, 0, 0, 0, 0, 0, 0, 0, 0, 0, 0, 0, 0, 0, 0, 0, 0, 0, 0, 1, 1,\n",
       "       1, 1, 1, 1, 1, 1, 1, 1, 1, 1, 1, 1, 1, 1, 1, 1, 1, 1, 0, 0, 0, 0,\n",
       "       0, 0, 0, 0, 0, 0, 0, 0, 0, 0, 0, 0, 0, 0, 0, 0, 0, 1, 1, 1, 1, 1,\n",
       "       1, 1, 1, 1, 1, 1, 1, 1, 1, 1, 1, 1, 1, 1, 1, 1, 1, 1, 1, 1, 1, 1,\n",
       "       1, 0, 0, 0, 0, 0, 0, 0, 0, 0, 0, 0])"
      ]
     },
     "execution_count": 29,
     "metadata": {},
     "output_type": "execute_result"
    }
   ],
   "source": [
    "h5[\"turns\"][:100]"
   ]
  },
  {
   "cell_type": "markdown",
   "metadata": {},
   "source": [
    "### Opening 2023 World"
   ]
  },
  {
   "cell_type": "code",
   "execution_count": 1,
   "metadata": {},
   "outputs": [],
   "source": [
    "from utils.dataset import PGNDataset"
   ]
  },
  {
   "cell_type": "code",
   "execution_count": 2,
   "metadata": {},
   "outputs": [
    {
     "name": "stdout",
     "output_type": "stream",
     "text": [
      "WorldChamp2023.pgn\n",
      "__MACOSX/._WorldChamp2023.pgn\n",
      "b'[Event \"WCh 2023\"]\\n'\n",
      "b'[Site \"Astana KAZ\"]\\n'\n",
      "b'[Date \"2023.04.09\"]\\n'\n",
      "b'[Round \"1.1\"]\\n'\n",
      "b'[White \"Nepomniachtchi,I\"]\\n'\n",
      "b'[Black \"Ding Liren\"]\\n'\n",
      "b'[Result \"1/2-1/2\"]\\n'\n",
      "b'[WhiteElo \"2795\"]\\n'\n",
      "b'[BlackElo \"2788\"]\\n'\n",
      "b'[ECO \"C85\"]\\n'\n",
      "b'\\n'\n",
      "b'1.e4 e5 2.Nf3 Nc6 3.Bb5 a6 4.Ba4 Nf6 5.O-O Be7 6.Bxc6 dxc6 7.Re1 Nd7 8.d4 exd4\\n'\n",
      "b'9.Qxd4 O-O 10.Bf4 Nc5 11.Qe3 Bg4 12.Nd4 Qd7 13.Nc3 Rad8 14.Nf5 Ne6 15.Nxe7+ Qxe7\\n'\n",
      "b'16.Bg3 Bh5 17.f3 f6 18.h3 h6 19.Kh2 Bf7 20.Rad1 b6 21.a3 a5 22.Ne2 Rxd1 23.Rxd1 Rd8\\n'\n",
      "b'24.Rd3 c5 25.Qd2 c6 26.Rxd8+ Nxd8 27.Qf4 b5 28.Qb8 Kh7 29.Bd6 Qd7 30.Ng3 Ne6\\n'\n",
      "b'31.f4 h5 32.c3 c4 33.h4 Qd8 34.Qb7 Be8 35.Nf5 Qd7 36.Qb8 Qd8 37.Qxd8 Nxd8\\n'\n",
      "b'38.Nd4 Nb7 39.e5 Kg8 40.Kg3 Bd7 41.Bc7 Nc5 42.Bxa5 Kf7 43.Bb4 Nd3 44.e6+ Bxe6\\n'\n",
      "b'45.Nxc6 Bd7 46.Nd4 Nxb2 47.Kf3 Nd3 48.g3 Nc1 49.Ke3  1/2-1/2\\n'\n",
      "b'\\n'\n",
      "b'[Event \"WCh 2023\"]\\n'\n",
      "b'[Site \"Astana KAZ\"]\\n'\n",
      "b'[Date \"2023.04.10\"]\\n'\n",
      "b'[Round \"2.1\"]\\n'\n",
      "b'[White \"Ding Liren\"]\\n'\n",
      "b'[Black \"Nepomniachtchi,I\"]\\n'\n",
      "b'[Result \"0-1\"]\\n'\n",
      "b'[WhiteElo \"2788\"]\\n'\n",
      "b'[BlackElo \"2795\"]\\n'\n",
      "b'[ECO \"E10\"]\\n'\n",
      "b'\\n'\n",
      "b'1.d4 Nf6 2.c4 e6 3.Nf3 d5 4.h3 dxc4 5.e3 c5 6.Bxc4 a6 7.O-O Nc6 8.Nc3 b5\\n'\n",
      "b'9.Bd3 Bb7 10.a4 b4 11.Ne4 Na5 12.Nxf6+ gxf6 13.e4 c4 14.Bc2 Qc7 15.Bd2 Rg8\\n'\n",
      "b'16.Rc1 O-O-O 17.Bd3 Kb8 18.Re1 f5 19.Bc2 Nc6 20.Bg5 Rxg5 21.Nxg5 Nxd4 22.Qh5 f6\\n'\n",
      "b'23.Nf3 Nxc2 24.Rxc2 Bxe4 25.Rd2 Bd6 26.Kh1 c3 27.bxc3 bxc3 28.Rd4 c2 29.Qh6 e5  0-1\\n'\n",
      "b'\\n'\n",
      "b'[Event \"WCh 2023\"]\\n'\n",
      "b'[Site \"Astana KAZ\"]\\n'\n",
      "b'[Date \"2023.04.12\"]\\n'\n",
      "b'[Round \"3.1\"]\\n'\n",
      "b'[White \"Nepomniachtchi,I\"]\\n'\n",
      "b'[Black \"Ding Liren\"]\\n'\n",
      "b'[Result \"1/2-1/2\"]\\n'\n",
      "b'[WhiteElo \"2795\"]\\n'\n",
      "b'[BlackElo \"2788\"]\\n'\n",
      "b'[ECO \"D35\"]\\n'\n",
      "b'\\n'\n",
      "b'1.d4 Nf6 2.c4 e6 3.Nc3 d5 4.cxd5 exd5 5.Bg5 c6 6.e3 h6 7.Bh4 Be7 8.Bd3 O-O\\n'\n",
      "b'9.Qc2 Re8 10.Nge2 Nbd7 11.O-O a5 12.a3 Nh5 13.Bxe7 Qxe7 14.Rae1 Nf8 15.Nc1 Nf6\\n'\n",
      "b'16.f3 Ne6 17.N1e2 c5 18.Bb5 Rd8 19.dxc5 Qxc5 20.Qd2 Bd7 21.Bxd7 Nxd7 22.Nd4 Nb6\\n'\n",
      "b'23.Rd1 Nc4 24.Qf2 Rac8 25.Na4 Qe7 26.Rfe1 Qf6 27.Nb5 Nc7 28.Nd4 Ne6 29.Nb5 Nc7\\n'\n",
      "b'30.Nd4 Ne6  1/2-1/2\\n'\n",
      "b'\\n'\n",
      "b'[Event \"WCh 2023\"]\\n'\n",
      "b'[Site \"Astana KAZ\"]\\n'\n",
      "b'[Date \"2023.04.13\"]\\n'\n",
      "b'[Round \"4.1\"]\\n'\n",
      "b'[White \"Ding Liren\"]\\n'\n",
      "b'[Black \"Nepomniachtchi,I\"]\\n'\n",
      "b'[Result \"1-0\"]\\n'\n",
      "b'[WhiteElo \"2788\"]\\n'\n",
      "b'[BlackElo \"2795\"]\\n'\n",
      "b'[ECO \"A28\"]\\n'\n",
      "b'\\n'\n",
      "b'1.c4 Nf6 2.Nc3 e5 3.Nf3 Nc6 4.e3 Bb4 5.Qc2 Bxc3 6.bxc3 d6 7.e4 O-O 8.Be2 Nh5\\n'\n",
      "b'9.d4 Nf4 10.Bxf4 exf4 11.O-O Qf6 12.Rfe1 Re8 13.Bd3 Bg4 14.Nd2 Na5 15.c5 dxc5\\n'\n",
      "b'16.e5 Qh6 17.d5 Rad8 18.c4 b6 19.h3 Bh5 20.Be4 Re7 21.Qc3 Rde8 22.Bf3 Nb7\\n'\n",
      "b'23.Re2 f6 24.e6 Nd6 25.Rae1 Nf5 26.Bxh5 Qxh5 27.Re4 Qh6 28.Qf3 Nd4 29.Rxd4 cxd4\\n'\n",
      "b'30.Nb3 g5 31.Nxd4 Qg6 32.g4 fxg3 33.fxg3 h5 34.Nf5 Rh7 35.Qe4 Kh8 36.e7 Qf7\\n'\n",
      "b'37.d6 cxd6 38.Nxd6 Qg8 39.Nxe8 Qxe8 40.Qe6 Kg7 41.Rf1 Rh6 42.Rd1 f5 43.Qe5+ Kf7\\n'\n",
      "b'44.Qxf5+ Rf6 45.Qh7+ Ke6 46.Qg7 Rg6 47.Qf8  1-0\\n'\n",
      "b'\\n'\n",
      "b'[Event \"WCh 2023\"]\\n'\n",
      "b'[Site \"Astana KAZ\"]\\n'\n",
      "b'[Date \"2023.04.15\"]\\n'\n",
      "b'[Round \"5.1\"]\\n'\n",
      "b'[White \"Nepomniachtchi,I\"]\\n'\n",
      "b'[Black \"Ding Liren\"]\\n'\n",
      "b'[Result \"1-0\"]\\n'\n",
      "b'[WhiteElo \"2795\"]\\n'\n",
      "b'[BlackElo \"2788\"]\\n'\n",
      "b'[ECO \"C84\"]\\n'\n",
      "b'\\n'\n",
      "b'1.e4 e5 2.Nf3 Nc6 3.Bb5 a6 4.Ba4 Nf6 5.O-O Be7 6.d3 b5 7.Bb3 d6 8.c3 O-O\\n'\n",
      "b'9.h3 Bb7 10.a4 Na5 11.Ba2 c5 12.Bg5 h6 13.Bxf6 Bxf6 14.axb5 axb5 15.Nbd2 Nc6\\n'\n",
      "b'16.Bd5 Rxa1 17.Qxa1 Qd7 18.Re1 Ra8 19.Qd1 Bd8 20.Nf1 Ne7 21.Bxb7 Qxb7 22.Ne3 Bb6\\n'\n",
      "b'23.h4 Qc6 24.h5 c4 25.d4 exd4 26.Nxd4 Qc5 27.Qg4 Qe5 28.Nf3 Qe6 29.Nf5 Nxf5\\n'\n",
      "b'30.exf5 Qf6 31.Qe4 Rb8 32.Re2 Bc5 33.g4 Qd8 34.Qd5 Kf8 35.Kf1 Rc8 36.Re4 Rb8\\n'\n",
      "b'37.g5 hxg5 38.Rg4 Ra8 39.Nxg5 Ra1+ 40.Ke2 Qe7+ 41.Ne4 Qe8 42.Kf3 Qa8 43.Qxa8+ Rxa8\\n'\n",
      "b'44.f6 g6 45.hxg6 fxg6 46.Rxg6 Ra2 47.Kg4 Rxb2 48.Rh6  1-0\\n'\n",
      "b'\\n'\n",
      "b'[Event \"WCh 2023\"]\\n'\n",
      "b'[Site \"Astana KAZ\"]\\n'\n",
      "b'[Date \"2023.04.16\"]\\n'\n",
      "b'[Round \"6.1\"]\\n'\n",
      "b'[White \"Ding Liren\"]\\n'\n",
      "b'[Black \"Nepomniachtchi,I\"]\\n'\n",
      "b'[Result \"1-0\"]\\n'\n",
      "b'[WhiteElo \"2788\"]\\n'\n",
      "b'[BlackElo \"2795\"]\\n'\n",
      "b'[ECO \"D02\"]\\n'\n",
      "b'\\n'\n",
      "b'1.d4 Nf6 2.Nf3 d5 3.Bf4 c5 4.e3 Nc6 5.Nbd2 cxd4 6.exd4 Bf5 7.c3 e6 8.Bb5 Bd6\\n'\n",
      "b'9.Bxd6 Qxd6 10.O-O O-O 11.Re1 h6 12.Ne5 Ne7 13.a4 a6 14.Bf1 Nd7 15.Nxd7 Qxd7\\n'\n",
      "b'16.a5 Qc7 17.Qf3 Rfc8 18.Ra3 Bg6 19.Nb3 Nc6 20.Qg3 Qe7 21.h4 Re8 22.Nc5 e5\\n'\n",
      "b'23.Rb3 Nxa5 24.Rxe5 Qf6 25.Ra3 Nc4 26.Bxc4 dxc4 27.h5 Bc2 28.Nxb7 Qb6 29.Nd6 Rxe5\\n'\n",
      "b'30.Qxe5 Qxb2 31.Ra5 Kh7 32.Rc5 Qc1+ 33.Kh2 f6 34.Qg3 a5 35.Nxc4 a4 36.Ne3 Bb1\\n'\n",
      "b'37.Rc7 Rg8 38.Nd5 Kh8 39.Ra7 a3 40.Ne7 Rf8 41.d5 a2 42.Qc7 Kh7 43.Ng6 Rg8\\n'\n",
      "b'44.Qf7  1-0\\n'\n",
      "b'\\n'\n",
      "b'[Event \"WCh 2023\"]\\n'\n",
      "b'[Site \"Astana KAZ\"]\\n'\n",
      "b'[Date \"2023.04.18\"]\\n'\n",
      "b'[Round \"7.1\"]\\n'\n",
      "b'[White \"Nepomniachtchi,I\"]\\n'\n",
      "b'[Black \"Ding Liren\"]\\n'\n",
      "b'[Result \"1-0\"]\\n'\n",
      "b'[WhiteElo \"2795\"]\\n'\n",
      "b'[BlackElo \"2788\"]\\n'\n",
      "b'[ECO \"C07\"]\\n'\n",
      "b'\\n'\n",
      "b'1.e4 e6 2.d4 d5 3.Nd2 c5 4.Ngf3 cxd4 5.Nxd4 Nf6 6.exd5 Nxd5 7.N2f3 Be7 8.Bc4 Nc6\\n'\n",
      "b'9.Nxc6 bxc6 10.O-O O-O 11.Qe2 Bb7 12.Bd3 Qc7 13.Qe4 Nf6 14.Qh4 c5 15.Bf4 Qb6\\n'\n",
      "b'16.Ne5 Rad8 17.Rae1 g6 18.Bg5 Rd4 19.Qh3 Qc7 20.b3 Nh5 21.f4 Bd6 22.c3 Nxf4\\n'\n",
      "b'23.Bxf4 Rxf4 24.Rxf4 Bxe5 25.Rh4 Rd8 26.Be4 Bxe4 27.Rhxe4 Rd5 28.Rh4 Qd6\\n'\n",
      "b'29.Qe3 h5 30.g3 Bf6 31.Rc4 h4 32.gxh4 Rd2 33.Re2 Rd3 34.Qxc5 Rd1+ 35.Kg2 Qd3\\n'\n",
      "b'36.Rf2 Kg7 37.Rcf4 Qxc3  1-0\\n'\n",
      "b'\\n'\n",
      "b'[Event \"WCh 2023\"]\\n'\n",
      "b'[Site \"Astana KAZ\"]\\n'\n",
      "b'[Date \"2023.04.20\"]\\n'\n",
      "b'[Round \"8.1\"]\\n'\n",
      "b'[White \"Ding Liren\"]\\n'\n",
      "b'[Black \"Nepomniachtchi,I\"]\\n'\n",
      "b'[Result \"1/2-1/2\"]\\n'\n",
      "b'[WhiteElo \"2788\"]\\n'\n",
      "b'[BlackElo \"2795\"]\\n'\n",
      "b'[ECO \"E28\"]\\n'\n",
      "b'\\n'\n",
      "b'1.d4 Nf6 2.c4 e6 3.Nc3 Bb4 4.e3 O-O 5.a3 Bxc3+ 6.bxc3 d6 7.Ne2 c5 8.Ng3 Nc6\\n'\n",
      "b'9.Ra2 b6 10.e4 Ba6 11.Bg5 h6 12.h4 hxg5 13.hxg5 g6 14.gxf6 Qxf6 15.e5 dxe5\\n'\n",
      "b'16.d5 Ne7 17.d6 Nf5 18.Ne4 Qd8 19.Qd3 Kg7 20.g4 Bb7 21.Rh3 Nh4 22.g5 Bxe4\\n'\n",
      "b'23.Qxe4 Nf5 24.Rd2 Rh8 25.Rxh8 Qxh8 26.d7 Rd8 27.Qxe5+ Kh7 28.Qh2+ Kg7 29.Qe5+ Kh7\\n'\n",
      "b'30.Qh2+ Kg7 31.Qc7 Qh4 32.Kd1 Qxg5 33.Kc2 Qe7 34.Bg2 e5 35.Be4 Nh6 36.Qxa7 Ng4\\n'\n",
      "b'37.Bf3 Nxf2 38.Rxf2 e4 39.Re2 f5 40.Qxb6 Rxd7 41.Qb8 Qd6 42.Qxd6 Rxd6 43.Bxe4 fxe4\\n'\n",
      "b'44.Rxe4 Kf6 45.Re8  1/2-1/2\\n'\n",
      "b'\\n'\n",
      "b'[Event \"WCh 2023\"]\\n'\n",
      "b'[Site \"Astana KAZ\"]\\n'\n",
      "b'[Date \"2023.04.21\"]\\n'\n",
      "b'[Round \"9.1\"]\\n'\n",
      "b'[White \"Nepomniachtchi,I\"]\\n'\n",
      "b'[Black \"Ding Liren\"]\\n'\n",
      "b'[Result \"1/2-1/2\"]\\n'\n",
      "b'[WhiteElo \"2795\"]\\n'\n",
      "b'[BlackElo \"2788\"]\\n'\n",
      "b'[ECO \"C65\"]\\n'\n",
      "b'\\n'\n",
      "b'1.e4 e5 2.Nf3 Nc6 3.Bb5 Nf6 4.d3 Bc5 5.c3 O-O 6.O-O d5 7.Nbd2 dxe4 8.dxe4 a5\\n'\n",
      "b'9.a4 Qe7 10.Qc2 Nb8 11.Re1 Rd8 12.h3 h6 13.Nf1 c6 14.Bc4 Na6 15.Ng3 Qc7 16.Ba2 b5\\n'\n",
      "b'17.Qe2 Rb8 18.Nh4 Bf8 19.Qf3 bxa4 20.Bxh6 Nc5 21.Ng6 Rxb2 22.Nxf8 Rxf8 23.Bg5 Nh7\\n'\n",
      "b'24.Bc1 Rb5 25.Ba3 Re8 26.Bc4 Be6 27.Bxe6 Nxe6 28.Nf5 c5 29.Qe2 Rb3 30.Qc4 Qc6\\n'\n",
      "b'31.Bc1 Nf6 32.Qxa4 Qxa4 33.Rxa4 Rxc3 34.Bb2 Rb3 35.Bxe5 Rb4 36.Rxa5 Rxe4\\n'\n",
      "b'37.Rxe4 Nxe4 38.Ra4 Nd4 39.Bxd4 cxd4 40.Rxd4 g6 41.Ne3 Kg7 42.Rb4 Ng3 43.Rb7 Nf5\\n'\n",
      "b'44.Ng4 Re7 45.Rb5 Re1+ 46.Kh2 Re2 47.Rb7 Nd6 48.Ra7 Kf8 49.Kg3 f5 50.Kf3 Re7\\n'\n",
      "b'51.Ra8+ Re8 52.Rxe8+ Kxe8 53.Ne5 g5 54.h4 gxh4 55.Kf4 h3 56.gxh3 Ke7 57.Nc6+ Kf6\\n'\n",
      "b'58.Nd4 Ne4 59.f3 Nf2 60.h4 Nd3+ 61.Kg3 Kg6 62.Ne6 Kf6 63.Nf4 Nb4 64.Kf2 Ke5\\n'\n",
      "b'65.Ke3 Nc2+ 66.Kd2 Nd4 67.Nd3+ Kf6 68.Ke3 Nc2+ 69.Kf4 Nd4 70.Kg3 Ne2+ 71.Kf2 Nd4\\n'\n",
      "b'72.Nf4 Ke5 73.Ne2 Ne6 74.Kg3 Kf6 75.Kg2 Kg7 76.Kf2 f4 77.Kg1 Kg6 78.Kg2 Kh6\\n'\n",
      "b'79.Nc1 Kh5 80.Kh3 Nd4 81.Nd3 Nxf3 82.Nxf4+  1/2-1/2\\n'\n",
      "b'\\n'\n",
      "b'[Event \"WCh 2023\"]\\n'\n",
      "b'[Site \"Astana KAZ\"]\\n'\n",
      "b'[Date \"2023.04.23\"]\\n'\n",
      "b'[Round \"10.1\"]\\n'\n",
      "b'[White \"Ding Liren\"]\\n'\n",
      "b'[Black \"Nepomniachtchi,I\"]\\n'\n",
      "b'[Result \"1/2-1/2\"]\\n'\n",
      "b'[WhiteElo \"2788\"]\\n'\n",
      "b'[BlackElo \"2795\"]\\n'\n",
      "b'[ECO \"A28\"]\\n'\n",
      "b'\\n'\n",
      "b'1.c4 Nf6 2.Nc3 e5 3.Nf3 Nc6 4.e4 Bc5 5.Nxe5 Nxe5 6.d4 Bb4 7.dxe5 Nxe4 8.Qf3 Nxc3\\n'\n",
      "b'9.bxc3 Bc5 10.Qg3 Kf8 11.Be2 d6 12.Bf4 Qe7 13.Rd1 h5 14.O-O h4 15.Qd3 g5\\n'\n",
      "b'16.exd6 cxd6 17.Bxd6 Qxd6 18.Qxd6+ Bxd6 19.Rxd6 Be6 20.f4 Ke7 21.Rd4 gxf4\\n'\n",
      "b'22.Rfxf4 h3 23.g4 Rac8 24.Kf2 Rc5 25.a4 Ra5 26.Bd1 b6 27.Kg3 Rh6 28.Rfe4 Kf8\\n'\n",
      "b'29.Rd8+ Kg7 30.Ra8 Rc5 31.Rxa7 Bxc4 32.Rae7 Rhc6 33.R7e5 Rxe5 34.Rxe5 Bb3\\n'\n",
      "b'35.Bxb3 Rxc3+ 36.Kh4 Rxb3 37.Rb5 Ra3 38.Rxb6 Rxa4 39.Kxh3 f5 40.gxf5 Rf4\\n'\n",
      "b'41.Rb5 Kf6 42.Kg3 Rxf5 43.Rxf5+ Kxf5 44.h4 Kg6 45.h5+ Kxh5  1/2-1/2\\n'\n",
      "b'\\n'\n",
      "b'[Event \"WCh 2023\"]\\n'\n",
      "b'[Site \"Astana KAZ\"]\\n'\n",
      "b'[Date \"2023.04.24\"]\\n'\n",
      "b'[Round \"11.1\"]\\n'\n",
      "b'[White \"Nepomniachtchi,I\"]\\n'\n",
      "b'[Black \"Ding Liren\"]\\n'\n",
      "b'[Result \"1/2-1/2\"]\\n'\n",
      "b'[WhiteElo \"2795\"]\\n'\n",
      "b'[BlackElo \"2788\"]\\n'\n",
      "b'[ECO \"C84\"]\\n'\n",
      "b'\\n'\n",
      "b'1.e4 e5 2.Nf3 Nc6 3.Bb5 a6 4.Ba4 Nf6 5.O-O Be7 6.d3 b5 7.Bb3 d6 8.a3 Na5\\n'\n",
      "b'9.Ba2 c5 10.Nc3 Be6 11.Bg5 O-O 12.Bxf6 Bxf6 13.Nd5 g6 14.Qd2 Bg7 15.Ng5 c4\\n'\n",
      "b'16.Nxe6 fxe6 17.Ne3 Bh6 18.Rad1 Rb8 19.dxc4 Nxc4 20.Bxc4 bxc4 21.Qxd6 Qxd6\\n'\n",
      "b'22.Rxd6 Bxe3 23.fxe3 Rxf1+ 24.Kxf1 Rxb2 25.Rxe6 Rxc2 26.Rxa6 Ra2 27.Rc6 Rxa3\\n'\n",
      "b'28.Rxc4 Rxe3 29.Kf2 Ra3 30.Rc5 Ra2+ 31.Kf3 Ra3+ 32.Kg4 Ra2 33.Kh3 Re2 34.Rxe5 Kf7\\n'\n",
      "b'35.Kg3 Kf6 36.Re8 Kf7 37.Re5 Kf6 38.Re8 Kf7 39.Re5  1/2-1/2\\n'\n",
      "b'\\n'\n",
      "b'[Event \"WCh 2023\"]\\n'\n",
      "b'[Site \"Astana KAZ\"]\\n'\n",
      "b'[Date \"2023.04.26\"]\\n'\n",
      "b'[Round \"12.1\"]\\n'\n",
      "b'[White \"Ding Liren\"]\\n'\n",
      "b'[Black \"Nepomniachtchi,I\"]\\n'\n",
      "b'[Result \"1-0\"]\\n'\n",
      "b'[WhiteElo \"2788\"]\\n'\n",
      "b'[BlackElo \"2795\"]\\n'\n",
      "b'[ECO \"D04\"]\\n'\n",
      "b'\\n'\n",
      "b'1.d4 Nf6 2.Nf3 d5 3.e3 c5 4.Nbd2 cxd4 5.exd4 Qc7 6.c3 Bd7 7.Bd3 Nc6 8.O-O Bg4\\n'\n",
      "b'9.Re1 e6 10.Nf1 Bd6 11.Bg5 O-O 12.Bxf6 gxf6 13.Ng3 f5 14.h3 Bxf3 15.Qxf3 Ne7\\n'\n",
      "b'16.Nh5 Kh8 17.g4 Rg8 18.Kh1 Ng6 19.Bc2 Nh4 20.Qe3 Rg6 21.Rg1 f4 22.Qd3 Qe7\\n'\n",
      "b'23.Rae1 Qg5 24.c4 dxc4 25.Qc3 b5 26.a4 b4 27.Qxc4 Rag8 28.Qc6 Bb8 29.Qb7 Rh6\\n'\n",
      "b'30.Be4 Rf8 31.Qxb4 Qd8 32.Qc3 Ng6 33.Bg2 Qh4 34.Re2 f5 35.Rxe6 Rxh5 36.gxh5 Qxh5\\n'\n",
      "b'37.d5+ Kg8 38.d6  1-0\\n'\n",
      "b'\\n'\n",
      "b'[Event \"WCh 2023\"]\\n'\n",
      "b'[Site \"Astana KAZ\"]\\n'\n",
      "b'[Date \"2023.04.27\"]\\n'\n",
      "b'[Round \"13.1\"]\\n'\n",
      "b'[White \"Nepomniachtchi,I\"]\\n'\n",
      "b'[Black \"Ding Liren\"]\\n'\n",
      "b'[Result \"1/2-1/2\"]\\n'\n",
      "b'[WhiteElo \"2795\"]\\n'\n",
      "b'[BlackElo \"2788\"]\\n'\n",
      "b'[ECO \"C84\"]\\n'\n",
      "b'\\n'\n",
      "b'1.e4 e5 2.Nf3 Nc6 3.Bb5 a6 4.Ba4 Nf6 5.O-O Be7 6.d3 b5 7.Bb3 d6 8.c3 O-O\\n'\n",
      "b'9.h3 Bb7 10.Be3 Na5 11.Bc2 c5 12.Nbd2 Re8 13.a4 h6 14.d4 exd4 15.cxd4 cxd4\\n'\n",
      "b'16.Nxd4 Nc4 17.Nxc4 bxc4 18.f3 Bf8 19.Bf2 d5 20.exd5 Nxd5 21.Be4 Re5 22.Rc1 Rc8\\n'\n",
      "b'23.Ne2 Qe7 24.Qd4 f5 25.Bg3 Rxe4 26.fxe4 Qxe4 27.Qxe4 fxe4 28.Rfd1 Nb4 29.Rd7 Bc5+\\n'\n",
      "b'30.Kh2 Bc6 31.Rc7 Rxc7 32.Bxc7 Bd5 33.Nc3 Nd3 34.Rc2 Bc6 35.a5 Kf7 36.Re2 Nc1\\n'\n",
      "b'37.Re1 Nd3 38.Re2 Nc1 39.Re1 Nd3 40.Re2  1/2-1/2\\n'\n",
      "b'\\n'\n",
      "b'[Event \"WCh 2023\"]\\n'\n",
      "b'[Site \"Astana KAZ\"]\\n'\n",
      "b'[Date \"2023.04.29\"]\\n'\n",
      "b'[Round \"14.1\"]\\n'\n",
      "b'[White \"Ding Liren\"]\\n'\n",
      "b'[Black \"Nepomniachtchi,I\"]\\n'\n",
      "b'[Result \"1/2-1/2\"]\\n'\n",
      "b'[WhiteElo \"2788\"]\\n'\n",
      "b'[BlackElo \"2795\"]\\n'\n",
      "b'[ECO \"E46\"]\\n'\n",
      "b'\\n'\n",
      "b'1.d4 Nf6 2.c4 e6 3.Nc3 Bb4 4.e3 O-O 5.Bd2 d5 6.a3 Be7 7.Nf3 c5 8.dxc5 Bxc5\\n'\n",
      "b'9.Qc2 dxc4 10.Bxc4 Nbd7 11.Rd1 Be7 12.Ng5 h6 13.h4 Qc7 14.Be2 Rd8 15.Rc1 Nf8\\n'\n",
      "b'16.Nge4 Nxe4 17.Nxe4 Qxc2 18.Rxc2 Bd7 19.Bb4 Bxb4+ 20.axb4 Bc6 21.Nc5 Bxg2\\n'\n",
      "b'22.Rg1 Bd5 23.e4 Bc6 24.b5 Be8 25.Nxb7 Rd4 26.Rc4 Rd7 27.Nc5 Rc7 28.Rc3 Rac8\\n'\n",
      "b'29.b4 Nd7 30.Rcg3 Nxc5 31.bxc5 Rxc5 32.Rxg7+ Kf8 33.Bd3 Rd8 34.Ke2 Rc3 35.Rg8+ Ke7\\n'\n",
      "b'36.R1g3 e5 37.Rh8 Rd6 38.b6 Rxb6 39.Rxe8+ Kxe8 40.Bb5+ Rxb5 41.Rxc3 Kd7 42.Rf3 Ke7\\n'\n",
      "b'43.Rc3 a5 44.Rc7+ Kf6 45.Rc6+ Kg7 46.Ra6 Rb2+ 47.Kf3 Ra2 48.Kg3 h5 49.Ra8 Ra1\\n'\n",
      "b'50.Kg2 a4 51.Ra5 f6 52.Kf3 a3 53.Ra6 Kf7 54.Ke3 Ke8 55.Ke2 Ke7 56.Kf3 Ra2\\n'\n",
      "b'57.Ke3 Ra1 58.Ke2 Kf7 59.Kf3 Ra2 60.Ke3 Ke7 61.Kf3 Kd7 62.Rxf6 Rb2 63.Ra6 Rb3+\\n'\n",
      "b'64.Kg2 Kc7 65.f4 exf4 66.e5 Kb7 67.Ra4 Kc6 68.Ra6+ Kb5 69.Ra7 Kb6 70.Ra8 Kc5\\n'\n",
      "b'71.Ra6 Kb5 72.Ra7 Kb6 73.Ra8 Kc6 74.Ra6+ Kd7 75.Kf2 Ke7 76.Kg2 Re3 77.Kf2 Rg3\\n'\n",
      "b'78.Kf1 Rc3 79.Kf2 Re3 80.Kg2 Kd7 81.Kf2 Kc7 82.e6 Kd8 83.Ra7 Ke8 84.Kg2 Rxe6\\n'\n",
      "b'85.Rxa3 Rg6+ 86.Kf2 Rg4 87.Ra5 Rxh4 88.Kf3 Ke7 89.Rf5 Ke6 90.Rxf4 Rxf4+  1/2-1/2\\n'\n"
     ]
    }
   ],
   "source": [
    "data = PGNDataset(\"/root/new-data/WorldChamp2023.pgn.zip\",\"/root/new-data-processed/\")"
   ]
  },
  {
   "cell_type": "code",
   "execution_count": 3,
   "metadata": {},
   "outputs": [
    {
     "data": {
      "text/plain": [
       "('[Event \"WCh 2023\"]\\n[Site \"Astana KAZ\"]\\n[Date \"2023.04.09\"]\\n[Round \"1.1\"]\\n[White \"Nepomniachtchi,I\"]\\n[Black \"Ding Liren\"]\\n[Result \"1/2-1/2\"]\\n[WhiteElo \"2795\"]\\n[BlackElo \"2788\"]\\n[ECO \"C85\"]',\n",
       " '1.e4 e5 2.Nf3 Nc6 3.Bb5 a6 4.Ba4 Nf6 5.O-O Be7 6.Bxc6 dxc6 7.Re1 Nd7 8.d4 exd4 9.Qxd4 O-O 10.Bf4 Nc5 11.Qe3 Bg4 12.Nd4 Qd7 13.Nc3 Rad8 14.Nf5 Ne6 15.Nxe7+ Qxe7 16.Bg3 Bh5 17.f3 f6 18.h3 h6 19.Kh2 Bf7 20.Rad1 b6 21.a3 a5 22.Ne2 Rxd1 23.Rxd1 Rd8 24.Rd3 c5 25.Qd2 c6 26.Rxd8+ Nxd8 27.Qf4 b5 28.Qb8 Kh7 29.Bd6 Qd7 30.Ng3 Ne6 31.f4 h5 32.c3 c4 33.h4 Qd8 34.Qb7 Be8 35.Nf5 Qd7 36.Qb8 Qd8 37.Qxd8 Nxd8 38.Nd4 Nb7 39.e5 Kg8 40.Kg3 Bd7 41.Bc7 Nc5 42.Bxa5 Kf7 43.Bb4 Nd3 44.e6+ Bxe6 45.Nxc6 Bd7 46.Nd4 Nxb2 47.Kf3 Nd3 48.g3 Nc1 49.Ke3  1/2-1/2')"
      ]
     },
     "execution_count": 3,
     "metadata": {},
     "output_type": "execute_result"
    }
   ],
   "source": [
    "data[0]"
   ]
  },
  {
   "cell_type": "code",
   "execution_count": null,
   "metadata": {},
   "outputs": [],
   "source": []
  },
  {
   "cell_type": "markdown",
   "metadata": {},
   "source": [
    "### Rob Data"
   ]
  },
  {
   "cell_type": "code",
   "execution_count": 4,
   "metadata": {},
   "outputs": [],
   "source": [
    "import torch"
   ]
  },
  {
   "cell_type": "code",
   "execution_count": 5,
   "metadata": {},
   "outputs": [],
   "source": [
    "data = torch.load(\"/root/rob/chess-hackathon/general_dataset.pt\")"
   ]
  },
  {
   "cell_type": "code",
   "execution_count": 9,
   "metadata": {},
   "outputs": [
    {
     "data": {
      "text/plain": [
       "(tensor(0),\n",
       " tensor(0),\n",
       " tensor([[13,  0, 16, 19, 14,  0,  0,  0],\n",
       "         [11,  0,  0,  0,  0,  0,  0,  0],\n",
       "         [ 0,  0, 11,  0,  0,  0,  0, 11],\n",
       "         [ 0,  0,  0,  0, 17,  0, 11,  0],\n",
       "         [ 0,  0,  0, 11,  0,  0,  0,  0],\n",
       "         [ 0,  0,  0,  1,  0,  1,  0,  0],\n",
       "         [ 1,  1,  1,  7,  0,  0,  0,  1],\n",
       "         [ 3,  0,  0,  9,  0,  0,  0,  3]]),\n",
       " tensor(-456))"
      ]
     },
     "execution_count": 9,
     "metadata": {},
     "output_type": "execute_result"
    }
   ],
   "source": [
    "data[100]"
   ]
  },
  {
   "cell_type": "code",
   "execution_count": 10,
   "metadata": {},
   "outputs": [
    {
     "data": {
      "text/plain": [
       "304856"
      ]
     },
     "execution_count": 10,
     "metadata": {},
     "output_type": "execute_result"
    }
   ],
   "source": [
    "len(data)"
   ]
  },
  {
   "cell_type": "code",
   "execution_count": null,
   "metadata": {},
   "outputs": [],
   "source": []
  }
 ],
 "metadata": {
  "kernelspec": {
   "display_name": ".chess",
   "language": "python",
   "name": "python3"
  },
  "language_info": {
   "codemirror_mode": {
    "name": "ipython",
    "version": 3
   },
   "file_extension": ".py",
   "mimetype": "text/x-python",
   "name": "python",
   "nbconvert_exporter": "python",
   "pygments_lexer": "ipython3",
   "version": "3.10.12"
  }
 },
 "nbformat": 4,
 "nbformat_minor": 2
}
